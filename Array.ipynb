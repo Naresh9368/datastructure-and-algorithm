{
 "cells": [
  {
   "cell_type": "markdown",
   "id": "81f23649",
   "metadata": {},
   "source": [
    "<h1 align=\"center\">ARRAY BASED DSA QUESTION</h1>"
   ]
  },
  {
   "cell_type": "markdown",
   "id": "27387ddd",
   "metadata": {},
   "source": [
    "<b>Q-1 Given an m x n integer matrix matrix, if an element is 0, set its entire row and column to 0's.<br>  \n",
    "\n",
    "Input: matrix = [[1,1,1],[1,0,1],[1,1,1]]<br>\n",
    "Output: [[1,0,1],[0,0,0],[1,0,1]]</b>"
   ]
  },
  {
   "cell_type": "code",
   "execution_count": 1,
   "id": "1d6cfe7a",
   "metadata": {},
   "outputs": [
    {
     "name": "stdout",
     "output_type": "stream",
     "text": [
      "Input:  [[1, 1, 1], [1, 0, 1], [1, 1, 1]]\n",
      "Output:  [[1, 0, 1], [0, 0, 0], [1, 0, 1]]\n"
     ]
    }
   ],
   "source": [
    "def set_zero(matrix):\n",
    "    row=len(matrix)\n",
    "    col=len(matrix[0])\n",
    "    set_row=set()\n",
    "    set_col=set()\n",
    "    \n",
    "    # Step 1: Identify zero positions\n",
    "    for i in range(row):\n",
    "        for j in range(col):\n",
    "            if matrix[i][j]==0 :\n",
    "                set_row.add(i)\n",
    "                set_col.add(j)\n",
    "     \n",
    "    # Step 2: Set rows and columns to zeros\n",
    "    for i in set_row:\n",
    "        for j in range(col):\n",
    "            matrix[i][j]=0\n",
    "            \n",
    "    for i in set_col:\n",
    "        for j in range(row):\n",
    "            matrix[j][i]=0\n",
    "            \n",
    "    return matrix\n",
    "            \n",
    "matrix = [[1,1,1],[1,0,1],[1,1,1]]\n",
    "print(\"Input: \",matrix)\n",
    "print(\"Output: \",set_zero(matrix))"
   ]
  },
  {
   "cell_type": "markdown",
   "id": "6ee8c8b6",
   "metadata": {},
   "source": [
    "<b>Q-2 Given an integer array nums, move all 0's to the end of it while maintaining the relative order of the non-zero elements.<br>\n",
    "Note that you must do this in-place without making a copy of the array.<br>\n",
    "    \n",
    "Example 1:<br>\n",
    "Input: nums = [0,1,0,3,12]<br>\n",
    "Output: [1,3,12,0,0]<br>\n",
    "    \n",
    "Example 2:<br>\n",
    "Input: nums = [0]<br>\n",
    "Output: [0]</b>"
   ]
  },
  {
   "cell_type": "code",
   "execution_count": 2,
   "id": "6f83c0ca",
   "metadata": {},
   "outputs": [
    {
     "name": "stdout",
     "output_type": "stream",
     "text": [
      "Input:  [0, 1, 0, 3, 12]\n",
      "Output:  [1, 3, 12, 0, 0]\n"
     ]
    }
   ],
   "source": [
    "def move_zero(matrix):\n",
    "    left_ptr=0\n",
    "    for right_ptr in range(len(matrix)):\n",
    "        if matrix[right_ptr]!=0 :\n",
    "            matrix[left_ptr], matrix[right_ptr] = matrix[right_ptr], matrix[left_ptr]\n",
    "            left_ptr += 1\n",
    "            \n",
    "    return matrix\n",
    "\n",
    "nums = [0,1,0,3,12]\n",
    "print(\"Input: \",nums)\n",
    "print(\"Output: \",move_zero(nums))"
   ]
  },
  {
   "cell_type": "markdown",
   "id": "d979b7d2",
   "metadata": {},
   "source": [
    "<b>Q-3 You are given an array prices where prices[i] is the price of a given stock on the ith day.<br>\n",
    "You want to maximize your profit by choosing a single day to buy one stock and choosing a different day in the future to sell that stock.<br>\n",
    "Return the maximum profit you can achieve from this transaction. If you cannot achieve any profit, return 0.<br>\n",
    "    \n",
    "Example 1:<br>\n",
    "Input: prices = [7,1,5,3,6,4]<br>\n",
    "Output: 5<br>\n",
    "Explanation: Buy on day 2 (price = 1) and sell on day 5 (price = 6), profit = 6-1 = 5.<br>\n",
    "Note that buying on day 2 and selling on day 1 is not allowed because you must buy before you sell.<br>\n",
    "    \n",
    "Example 2:<br>\n",
    "Input: prices = [7,6,4,3,1]<br>\n",
    "Output: 0<br>\n",
    "Explanation: In this case, no transactions are done and the max profit = 0.</b>"
   ]
  },
  {
   "cell_type": "code",
   "execution_count": 3,
   "id": "82a5de23",
   "metadata": {},
   "outputs": [
    {
     "name": "stdout",
     "output_type": "stream",
     "text": [
      "Input:  [7, 1, 5, 3, 6, 4]\n",
      "You buy less stock on day 2 and its price is 1\n",
      "Output:  5\n",
      "Sell stock on day 5 and its price is 6. Profit: 5\n"
     ]
    }
   ],
   "source": [
    "def profit(matrix):\n",
    "    # To find Less stock price\n",
    "    min=0\n",
    "    for i in range(len(matrix)):\n",
    "        if(matrix[min]>=matrix[i]):\n",
    "            min=i\n",
    "    \n",
    "    print(\"Input: \",matrix)\n",
    "    print(\"You buy less stock on day {} and its price is {}\".format(min+1,matrix[min]))\n",
    "\n",
    "    # To find profit stock\n",
    "    if min!=len(matrix)-1:\n",
    "        max=min\n",
    "        for i in range(min,len(matrix)):\n",
    "            if(matrix[max]<=matrix[i]):\n",
    "                max=i\n",
    "\n",
    "        print(\"Output: \",max+1)\n",
    "        print(\"Sell stock on day {} and its price is {}. Profit: {}\".format(max+1,matrix[max],matrix[max]-matrix[min]))\n",
    "    else:\n",
    "        print(\"Output: \",0)\n",
    "\n",
    "\n",
    "prices = [7,1,5,3,6,4]\n",
    "profit(prices)"
   ]
  },
  {
   "cell_type": "markdown",
   "id": "3a34aed4",
   "metadata": {},
   "source": [
    "<b>Q-4: Given an integer array nums sorted in non-decreasing order, remove the duplicates in-place such that each unique element appears only once. \n",
    "The relative order of the elements should be kept the same. Then return the number of unique elements in nums.</b>"
   ]
  },
  {
   "cell_type": "code",
   "execution_count": 4,
   "id": "8321c40f",
   "metadata": {},
   "outputs": [
    {
     "name": "stdout",
     "output_type": "stream",
     "text": [
      "Input:  [1, 2, 3, 4, 1, 2, 7, 9]\n",
      "Output: \n",
      "O[1]: Repited Element: 1 2 \n",
      "O[2]: Non Repited Element: 3 4 7 9 \n",
      "O[3]: Unique Element: 1 2 3 4 7 9 \n",
      "O[4]: Repited Element With His Repitation Value: 1 : 2, 2 : 2, "
     ]
    }
   ],
   "source": [
    "def logic(l):\n",
    "    d ={}\n",
    "    for i in l:\n",
    "        if i not in d.keys():\n",
    "            d[i]=1\n",
    "        else:\n",
    "            d[i]=d.get(i)+1\n",
    "    return d\n",
    "\n",
    "def Repited_Element(d):\n",
    "    print(\"O[1]: Repited Element: \",end=\"\")\n",
    "    for i in d.keys():\n",
    "        if d[i]>1 :\n",
    "            print(i,end=\" \")\n",
    "\n",
    "def Non_Repited_Element(d):\n",
    "    print(\"\\nO[2]: Non Repited Element: \",end=\"\")\n",
    "    for i in d.keys():\n",
    "        if d[i]<=1 :\n",
    "            print(i,end=\" \")\n",
    "\n",
    "def Unique_Element(d):\n",
    "    print(\"\\nO[3]: Unique Element: \",end=\"\")\n",
    "    for i in d.keys():\n",
    "        print(i,end=\" \")\n",
    "\n",
    "def Repitation_Value(d):\n",
    "    print(\"\\nO[4]: Repited Element With His Repitation Value: \",end=\"\")\n",
    "    for i in d.keys():\n",
    "        if d[i]>1 :\n",
    "            print(i,\":\",d[i],end=\", \")\n",
    "\n",
    "            \n",
    "l = [1,2,3,4,1,2,7,9]            \n",
    "print(\"Input: \",l)\n",
    "d=logic(l)\n",
    "print(\"Output: \")\n",
    "Repited_Element(d)\n",
    "Non_Repited_Element(d)\n",
    "Unique_Element(d)\n",
    "Repitation_Value(d)"
   ]
  },
  {
   "cell_type": "markdown",
   "id": "6888aed3",
   "metadata": {},
   "source": [
    "<b>Q-5: Given an array of integers nums containing n + 1 integers where each integer is in the range [1, n] inclusive.\n",
    "There is only one repeated number in nums, return this repeated number.\n",
    "You must solve the problem without modifying the array nums and uses only constant extra space.\n",
    "\n",
    "Example 1:<br>\n",
    "Input: nums = [1,3,4,2,2]<br>\n",
    "Output: 2\n",
    "\n",
    "Example 2:<br>\n",
    "Input: nums = [3,1,3,4,2]<br>\n",
    "Output: 3</b>"
   ]
  },
  {
   "cell_type": "code",
   "execution_count": 5,
   "id": "814b7522",
   "metadata": {},
   "outputs": [
    {
     "name": "stdout",
     "output_type": "stream",
     "text": [
      "Input:  [1, 3, 4, 2, 11, 7, 4, 9]\n",
      "Output:  4\n"
     ]
    }
   ],
   "source": [
    "def find_repated_element(matrix):\n",
    "    for i in range(len(matrix)):\n",
    "        for j in range(i+1,len(matrix)):\n",
    "            if matrix[j]==matrix[i]:\n",
    "                return matrix[i]\n",
    "            \n",
    "    \n",
    "        \n",
    "nums = [1,3,4,2,11,7,4,9]\n",
    "result=find_repated_element(nums)\n",
    "print(\"Input: \",nums)\n",
    "print(\"Output: \",result)"
   ]
  },
  {
   "cell_type": "markdown",
   "id": "5a9d7776",
   "metadata": {},
   "source": [
    "<b>Q-6 Given an array nums with n objects colored red, white, or blue, sort them in-place so that objects of the same color are adjacent, with the colors in the order red, white, and blue.\n",
    "We will use the integers 0, 1, and 2 to represent the color red, white, and blue, respectively.\n",
    "You must solve this problem without using the library's sort function.\n",
    "\n",
    "Example 1:<br>\n",
    "Input: nums = [2,0,2,1,1,0]<br>\n",
    "Output: [0,0,1,1,2,2]\n",
    "\n",
    "Example 2:<br>\n",
    "Input: nums = [2,0,1]<br>\n",
    "Output: [0,1,2]</b>"
   ]
  },
  {
   "cell_type": "code",
   "execution_count": 6,
   "id": "419c327e",
   "metadata": {},
   "outputs": [
    {
     "name": "stdout",
     "output_type": "stream",
     "text": [
      "Input 1:  [2, 0, 2, 1, 1, 0]\n",
      "Output 1: [0, 0, 1, 1, 2, 2]\n",
      "\n",
      "Input 2:  [2, 0, 1]\n",
      "Output 2: [0, 1, 2]\n"
     ]
    }
   ],
   "source": [
    "def sort_colors(nums):\n",
    "    low, mid, high = 0, 0, len(nums) - 1\n",
    "\n",
    "    while mid <= high:\n",
    "        if nums[mid] == 0:\n",
    "            nums[low], nums[mid] = nums[mid], nums[low]\n",
    "            low += 1\n",
    "            mid += 1\n",
    "        elif nums[mid] == 1:\n",
    "            mid += 1\n",
    "        else:  # nums[mid] == 2\n",
    "            nums[mid], nums[high] = nums[high], nums[mid]\n",
    "            high -= 1\n",
    "\n",
    "# Test the function\n",
    "nums1 = [2, 0, 2, 1, 1, 0]\n",
    "print(\"Input 1: \",nums1)\n",
    "sort_colors(nums1)\n",
    "print(\"Output 1:\", nums1)  # Output: [0, 0, 1, 1, 2, 2]\n",
    "\n",
    "nums2 = [2, 0, 1]\n",
    "print(\"\\nInput 2: \",nums2)\n",
    "sort_colors(nums2)\n",
    "print(\"Output 2:\", nums2)  # Output: [0, 1, 2]"
   ]
  },
  {
   "cell_type": "markdown",
   "id": "e4e94907",
   "metadata": {},
   "source": [
    "<b>Q-7 Given an array of integers nums and an integer target, return indices of the two numbers such that they add up to target.\n",
    "You may assume that each input would have exactly one solution, and you may not use the same element twice.\n",
    "You can return the answer in any order.\n",
    "\n",
    "Example 1:<br>\n",
    "Input: nums = [2,7,11,15], target = 9<br>\n",
    "Output: [0,1]<br>\n",
    "Explanation: Because nums[0] + nums[1] == 9, we return [0, 1].\n",
    "\n",
    "Example 2:<br>\n",
    "Input: nums = [3,2,4], target = 6<br>\n",
    "Output: [1,2]<br>\n",
    "\n",
    "Example 3:<br>\n",
    "Input: nums = [3,3], target = 6<br>\n",
    "Output: [0,1]</b>"
   ]
  },
  {
   "cell_type": "code",
   "execution_count": 7,
   "id": "be701da7",
   "metadata": {},
   "outputs": [
    {
     "name": "stdout",
     "output_type": "stream",
     "text": [
      "Input:  [2, 27, 11, 15, 7, 17]\n",
      "Output:  [0, 4]\n"
     ]
    }
   ],
   "source": [
    "def add(matrix,target):\n",
    "    l=[]\n",
    "    for i in range(len(matrix)):\n",
    "        for j in range(i+1,len(matrix)):\n",
    "            if matrix[i]+matrix[j]==target :\n",
    "                l.append(i)\n",
    "                l.append(j)\n",
    "                \n",
    "\n",
    "    return l\n",
    "\n",
    "\n",
    "nums = [2,27,11,15,7,17]\n",
    "result=add(nums,9)\n",
    "print(\"Input: \",nums)\n",
    "print(\"Output: \",result)"
   ]
  },
  {
   "cell_type": "markdown",
   "id": "347cc887",
   "metadata": {},
   "source": [
    "<b>Q-8 Given an integer array nums and an integer k, return the number of non-empty subarrays that have a sum divisible by k.\n",
    "A subarray is a contiguous part of an array.\n",
    "\n",
    "Example 1:<br>\n",
    "Input: nums = [4,5,0,-2,-3,1], k = 5<br>\n",
    "Output: 7<br>\n",
    "Explanation: There are 7 subarrays with a sum divisible by k = 5:<br>\n",
    "[4, 5, 0, -2, -3, 1], [5], [5, 0], [5, 0, -2, -3], [0], [0, -2, -3], [-2, -3]\n",
    "\n",
    "Example 2:<br>\n",
    "Input: nums = [5], k = 9<br>\n",
    "Output: 0</b>"
   ]
  },
  {
   "cell_type": "code",
   "execution_count": 8,
   "id": "c774e208",
   "metadata": {},
   "outputs": [
    {
     "name": "stdout",
     "output_type": "stream",
     "text": [
      "Input:  [4, 5, 0, -2, -3, 1]\n",
      "Output:  [[4, 5, 0, -2, -3, 1], [5], [5, 0], [5, 0, -2, -3], [0], [0, -2, -3], [-2, -3]]\n"
     ]
    }
   ],
   "source": [
    "def sub(matrix,num):\n",
    "    sub_arr=[]\n",
    "    main_arr=[]\n",
    "    for i in range(len(matrix)):\n",
    "        for j in range(i,len(matrix)):\n",
    "            sub_arr.append(matrix[j])\n",
    "            if sum(sub_arr)%num==0:\n",
    "                main_arr.append(list(sub_arr))        \n",
    "        sub_arr.clear()\n",
    "    if len(main_arr)==0:\n",
    "        return 0\n",
    "    else:\n",
    "        return main_arr\n",
    "\n",
    "\n",
    "nums = [4,5,0,-2,-3,1]\n",
    "k=5\n",
    "print(\"Input: \",nums)\n",
    "result=sub(nums,k)\n",
    "print(\"Output: \",result)"
   ]
  },
  {
   "cell_type": "markdown",
   "id": "f191d288",
   "metadata": {},
   "source": [
    "<b>Q-9 Given an integer array nums of length n where all the integers of nums are in the range [1, n]\n",
    "and each integer appears once or twice, return an array of all the integers that appears twice.\n",
    "You must write an algorithm that runs in O(n) time and uses only constant extra space.\n",
    "\n",
    "Example 1:<br>\n",
    "Input: nums = [4,3,2,7,8,2,3,1]<br>\n",
    "Output: [2,3]\n",
    "\n",
    "Example 2:<br>\n",
    "Input: nums = [1,1,2]<br>\n",
    "Output: [1]\n",
    "\n",
    "Example 3:<br>\n",
    "Input: nums = [1]<br>\n",
    "Output: []</b>"
   ]
  },
  {
   "cell_type": "code",
   "execution_count": 9,
   "id": "ea3ef444",
   "metadata": {},
   "outputs": [
    {
     "name": "stdout",
     "output_type": "stream",
     "text": [
      "Input:  [4, 3, 2, 7, 8, 2, 3]\n",
      "Output:  [3, 2]\n"
     ]
    }
   ],
   "source": [
    "def dup(matrix):\n",
    "    s=[]\n",
    "    for i in range(len(matrix)):\n",
    "        for j in range(i+1,len(matrix)):\n",
    "            if(matrix[i]==matrix[j]):\n",
    "                s.append(matrix[i])\n",
    "    return s\n",
    "\n",
    "\n",
    "nums = [4,3,2,7,8,2,3]\n",
    "print(\"Input: \",nums)\n",
    "result=dup(nums)\n",
    "print(\"Output: \",result)"
   ]
  },
  {
   "cell_type": "markdown",
   "id": "483cc2ce",
   "metadata": {},
   "source": [
    "<b>Q-10 You are given an integer array height of length n. \n",
    "There are n vertical lines drawn such that the two endpoints of the ith line are (i, 0) and (i, height[i]).\n",
    "Find two lines that together with the x-axis form a container, such that the container contains the most water.\n",
    "Return the maximum amount of water a container can store.\n",
    "Notice that you may not slant the container.\n",
    "\n",
    "Example 1:<br>\n",
    "Input: height = [1,8,6,2,5,4,8,3,7]<br>\n",
    "Output: 43<br>\n",
    "Explanation: The above vertical lines are represented by array [1,8,6,2,5,4,8,3,7]. \n",
    "In this case, the max area of water (blue section) the container can contain is 49.\n",
    "\n",
    "Example 2:<br>\n",
    "Input: height = [1,1]<br>\n",
    "Output: 1</b>"
   ]
  },
  {
   "cell_type": "code",
   "execution_count": 10,
   "id": "7011d5af",
   "metadata": {},
   "outputs": [
    {
     "name": "stdout",
     "output_type": "stream",
     "text": [
      "Input:  [1, 8, 6, 2, 5, 4, 8, 3, 7]\n",
      "Output:  49\n"
     ]
    }
   ],
   "source": [
    "def max_area(matrix):\n",
    "    left_ptr=0\n",
    "    right_ptr=len(matrix)-1\n",
    "    max_area=0\n",
    "    \n",
    "    while left_ptr < right_ptr :\n",
    "        current_area = min(matrix[left_ptr],matrix[right_ptr])*(right_ptr-left_ptr)\n",
    "        max_area = max(max_area,current_area)\n",
    "        \n",
    "        if matrix[left_ptr] < matrix[right_ptr] :\n",
    "            left_ptr += 1\n",
    "        else:\n",
    "            right_ptr -= 1\n",
    "            \n",
    "    return max_area\n",
    "    \n",
    "height = [1,8,6,2,5,4,8,3,7]\n",
    "print(\"Input: \",height)\n",
    "print(\"Output: \",max_area(height))"
   ]
  },
  {
   "cell_type": "markdown",
   "id": "779a2ca7",
   "metadata": {},
   "source": [
    "<b>Q-11 Given an integer array nums, return all the triplets [nums[i], nums[j], nums[k]] such that \n",
    "i != j, i != k, and j != k, and nums[i] + nums[j] + nums[k] == 0.\n",
    "Notice that the solution set must not contain duplicate triplets.\n",
    "\n",
    "Example 1:<br>\n",
    "Input: nums = [-1,0,1,2,-1,-4]<br>\n",
    "Output: [[-1,-1,2],[-1,0,1]]<br>\n",
    "Explanation: <br>\n",
    "nums[0] + nums[1] + nums[2] = (-1) + 0 + 1 = 0.<br>\n",
    "nums[1] + nums[2] + nums[4] = 0 + 1 + (-1) = 0.<br>\n",
    "nums[0] + nums[3] + nums[4] = (-1) + 2 + (-1) = 0.<br>\n",
    "The distinct triplets are [-1,0,1] and [-1,-1,2].<br>\n",
    "Notice that the order of the output and the order of the triplets does not matter.</b>"
   ]
  },
  {
   "cell_type": "code",
   "execution_count": 11,
   "id": "e1434fb3",
   "metadata": {},
   "outputs": [
    {
     "name": "stdout",
     "output_type": "stream",
     "text": [
      "Input:  [-1, 0, 1, 2, -1, -4]\n",
      "Output:  [[-1, -1, 2], [-1, 0, 1]]\n"
     ]
    }
   ],
   "source": [
    "def three_sum(nums):\n",
    "    nums.sort()\n",
    "    triplets = []\n",
    "\n",
    "    for i in range(len(nums) - 2):\n",
    "        if i > 0 and nums[i] == nums[i - 1]:\n",
    "            continue\n",
    "\n",
    "        left, right = i + 1, len(nums) - 1\n",
    "\n",
    "        while left < right:\n",
    "            total = nums[i] + nums[left] + nums[right]\n",
    "\n",
    "            if total == 0:\n",
    "                triplets.append([nums[i], nums[left], nums[right]])\n",
    "                left += 1\n",
    "                right -= 1\n",
    "\n",
    "                while left < right and nums[left] == nums[left - 1]:\n",
    "                    left += 1\n",
    "                while left < right and nums[right] == nums[right + 1]:\n",
    "                    right -= 1\n",
    "\n",
    "            elif total < 0:\n",
    "                left += 1\n",
    "            else:\n",
    "                right -= 1\n",
    "\n",
    "    return triplets\n",
    "\n",
    "# Test the function\n",
    "nums = [-1, 0, 1, 2, -1, -4]\n",
    "print(\"Input: \",nums)\n",
    "result = three_sum(nums)\n",
    "print(\"Output: \",result)"
   ]
  },
  {
   "cell_type": "markdown",
   "id": "d752b3cb",
   "metadata": {},
   "source": [
    "<b>Q-12 There are several cards arranged in a row, and each card has an associated number of points. \n",
    "The points are given in the integer array cardPoints.\n",
    "In one step, you can take one card from the beginning or from the end of the row. You have to take exactly k cards.\n",
    "Your score is the sum of the points of the cards you have taken.\n",
    "Given the integer array cardPoints and the integer k, return the maximum score you can obtain.\n",
    "\n",
    "Example 1:<br>\n",
    "Input: cardPoints = [1,2,3,4,5,6,1], k = 3<br>\n",
    "Output: 12<br>\n",
    "Explanation: After the first step, your score will always be 1.<br> \n",
    "However, choosing the rightmost card first will maximize your total score.<br> \n",
    "The optimal strategy is to take the three cards on the right, giving a final score of 1 + 6 + 5 = 12.</b>"
   ]
  },
  {
   "cell_type": "code",
   "execution_count": 12,
   "id": "c5bf4d60",
   "metadata": {},
   "outputs": [
    {
     "name": "stdout",
     "output_type": "stream",
     "text": [
      "Input:  [1, 2, 3, 4, 5, 6, 1]\n",
      "Output:  12\n"
     ]
    }
   ],
   "source": [
    "def max_score(cardPoints, k):\n",
    "    n = len(cardPoints)\n",
    "    window_sum = sum(cardPoints[:k])\n",
    "    max_sum = window_sum\n",
    "\n",
    "    for i in range(k):\n",
    "        window_sum += cardPoints[n - 1 - i] - cardPoints[k - 1 - i]\n",
    "        max_sum = max(max_sum, window_sum)\n",
    "\n",
    "    return max_sum\n",
    "\n",
    "# Test the function\n",
    "cardPoints = [1,2,3,4,5,6,1]\n",
    "k = 3\n",
    "print(\"Input: \",cardPoints)\n",
    "print(\"Output: \",max_score(cardPoints, k)) "
   ]
  },
  {
   "cell_type": "markdown",
   "id": "5d53ab34",
   "metadata": {},
   "source": [
    "<b>Q-13 Given an array of integers nums and an integer k, \n",
    "return the total number of subarrays whose sum equals to k.\n",
    "A subarray is a contiguous non-empty sequence of elements within an array.\n",
    "\n",
    "Example 1:<br>\n",
    "Input: nums = [1,1,1], k = 2<br>\n",
    "Output: 2</b>"
   ]
  },
  {
   "cell_type": "code",
   "execution_count": 13,
   "id": "c4d2f365",
   "metadata": {},
   "outputs": [
    {
     "name": "stdout",
     "output_type": "stream",
     "text": [
      "Input:  [1, 1, 1]\n",
      "Output:  2\n"
     ]
    }
   ],
   "source": [
    "def subarray_sum(nums, k):\n",
    "    sum_count = 0\n",
    "    cumulative_sum = 0\n",
    "    sum_freq = {0: 1}  # Initialize the hashmap with cumulative sum 0 and its frequency 1\n",
    "\n",
    "    for num in nums:\n",
    "        cumulative_sum += num\n",
    "        complement = cumulative_sum - k\n",
    "\n",
    "        if complement in sum_freq:\n",
    "            sum_count += sum_freq[complement]\n",
    "\n",
    "        sum_freq[cumulative_sum] = sum_freq.get(cumulative_sum, 0) + 1\n",
    "\n",
    "    return sum_count\n",
    "\n",
    "# Test the function\n",
    "nums = [1, 1, 1]\n",
    "k = 2\n",
    "print(\"Input: \",nums)\n",
    "print(\"Output: \",subarray_sum(nums, k))"
   ]
  },
  {
   "cell_type": "markdown",
   "id": "a7414cf7",
   "metadata": {},
   "source": [
    "<b>Q-14 Given an m x n matrix, return all elements of the matrix in spiral order.\n",
    "\n",
    "Example 1:<br>\n",
    "Input: matrix = [[1,2,3],[4,5,6],[7,8,9]]<br>\n",
    "Output: [1,2,3,6,9,8,7,4,5]\n",
    "\n",
    "Example 2:<br>\n",
    "Input: matrix = [[1,2,3,4],[5,6,7,8],[9,10,11,12]]<br>\n",
    "Output: [1,2,3,4,8,12,11,10,9,5,6,7]</b>"
   ]
  },
  {
   "cell_type": "code",
   "execution_count": 14,
   "id": "38a26df9",
   "metadata": {},
   "outputs": [
    {
     "name": "stdout",
     "output_type": "stream",
     "text": [
      "Input:  [[1, 2, 3, 4], [5, 6, 7, 8], [9, 10, 11, 12]]\n",
      "Output:  [1, 2, 3, 4, 8, 12, 11, 10, 9, 5, 6, 7]\n"
     ]
    }
   ],
   "source": [
    "def spiral_order(matrix):\n",
    "    if not matrix or not matrix[0]:\n",
    "        return []\n",
    "\n",
    "    result = []\n",
    "    top, bottom, left, right = 0, len(matrix) - 1, 0, len(matrix[0]) - 1\n",
    "\n",
    "    while top <= bottom and left <= right:\n",
    "        # Traverse right\n",
    "        for i in range(left, right + 1):\n",
    "            result.append(matrix[top][i])\n",
    "        top += 1\n",
    "\n",
    "        # Traverse down\n",
    "        for i in range(top, bottom + 1):\n",
    "            result.append(matrix[i][right])\n",
    "        right -= 1\n",
    "\n",
    "        # Traverse left\n",
    "        if top <= bottom:\n",
    "            for i in range(right, left - 1, -1):\n",
    "                result.append(matrix[bottom][i])\n",
    "            bottom -= 1\n",
    "\n",
    "        # Traverse up\n",
    "        if left <= right:\n",
    "            for i in range(bottom, top - 1, -1):\n",
    "                result.append(matrix[i][left])\n",
    "            left += 1\n",
    "\n",
    "    return result\n",
    "\n",
    "# Test the function\n",
    "matrix = [[1,2,3,4],[5,6,7,8],[9,10,11,12]]\n",
    "print(\"Input: \",matrix)\n",
    "print(\"Output: \",spiral_order(matrix))"
   ]
  },
  {
   "cell_type": "markdown",
   "id": "83079806",
   "metadata": {},
   "source": [
    "<b>Q-15 You are given two integer arrays nums1 and nums2, sorted in non-decreasing order, and \n",
    "two integers m and n, representing the number of elements in nums1 and nums2 respectively.\n",
    "Merge nums1 and nums2 into a single array sorted in non-decreasing order.\n",
    "\n",
    "The final sorted array should not be returned by the function, but instead be stored inside the array nums1. \n",
    "To accommodate this, nums1 has a length of m + n, where the first m elements denote the elements that \n",
    "should be merged, and the last n elements are set to 0 and should be ignored. nums2 has a length of n.\n",
    "\n",
    "Example 1:<br>\n",
    "Input: nums1 = [1,2,3,0,0,0], m = 3, nums2 = [2,5,6], n = 3<br>\n",
    "Output: [1,2,2,3,5,6]<br>\n",
    "Explanation: The arrays we are merging are [1,2,3] and [2,5,6].<br>\n",
    "The result of the merge is [1,2,2,3,5,6] with the underlined elements coming from nums1.</b>"
   ]
  },
  {
   "cell_type": "code",
   "execution_count": 15,
   "id": "0014365e",
   "metadata": {},
   "outputs": [
    {
     "name": "stdout",
     "output_type": "stream",
     "text": [
      "Input: num1=[1, 2, 3, 0, 0, 0], m=3, num2=[2, 5, 6], n=3\n",
      "Output:  [1, 2, 2, 3, 5, 6]\n"
     ]
    }
   ],
   "source": [
    "def solution(num1,m,num2,n):\n",
    "    for i in range(n):\n",
    "        num1[m]=num2[i]\n",
    "        m += 1\n",
    "    \n",
    "    for i in range(m-1):\n",
    "        min=i\n",
    "        for j in range(i+1,m):\n",
    "            if num1[j]<num1[min] :\n",
    "                min=j\n",
    "        if min != i :\n",
    "            num1[i], num1[min] = num1[min], num1[i]\n",
    "    \n",
    "\n",
    "    return num1\n",
    "\n",
    "nums1 = [1,2,3,0,0,0]\n",
    "m = 3\n",
    "nums2 = [2,5,6]\n",
    "n = 3\n",
    "print(\"Input: num1={}, m={}, num2={}, n={}\".format(nums1, m, nums2, n))\n",
    "print(\"Output: \",solution(nums1,m,nums2,n))"
   ]
  },
  {
   "cell_type": "markdown",
   "id": "a849e21a",
   "metadata": {},
   "source": [
    "<b>Q-16 You are given an integer array nums. You are initially positioned at the array's first index, and \n",
    "each element in the array represents your maximum jump length at that position.\n",
    "Return true if you can reach the last index, or false otherwise.\n",
    "\n",
    "Example 1:<br>\n",
    "Input: nums = [2,3,1,1,4]<br>\n",
    "Output: true<br>\n",
    "Explanation: Jump 1 step from index 0 to 1, then 3 steps to the last index.<br>\n",
    "\n",
    "Example 2:<br>\n",
    "Input: nums = [3,2,1,0,4]<br>\n",
    "Output: false<br>\n",
    "Explanation: You will always arrive at index 3 no matter what. Its maximum jump length is 0, <br>\n",
    "which makes it impossible to reach the last index.</b>"
   ]
  },
  {
   "cell_type": "code",
   "execution_count": 16,
   "id": "ac4ff249",
   "metadata": {},
   "outputs": [
    {
     "name": "stdout",
     "output_type": "stream",
     "text": [
      "Input:  [2, 3, 1, 1, 4]\n",
      "Output:  True\n",
      "Input:  [3, 2, 1, 0, 4]\n",
      "Output:  False\n"
     ]
    }
   ],
   "source": [
    "def can_jump(nums):\n",
    "    n = len(nums)\n",
    "    max_reachable = 0\n",
    "\n",
    "    for i in range(n):\n",
    "        if i > max_reachable:\n",
    "            return False\n",
    "\n",
    "        max_reachable = max(max_reachable, i + nums[i])\n",
    "\n",
    "        if max_reachable >= n - 1:\n",
    "            return True\n",
    "\n",
    "    return False\n",
    "\n",
    "# Test the function\n",
    "nums1 = [2, 3, 1, 1, 4]\n",
    "print(\"Input: \",nums1)\n",
    "print(\"Output: \",can_jump(nums1))  # Output: True\n",
    "\n",
    "nums2 = [3, 2, 1, 0, 4]\n",
    "print(\"Input: \",nums2)\n",
    "print(\"Output: \",can_jump(nums2))  # Output: False"
   ]
  },
  {
   "cell_type": "markdown",
   "id": "a07dd46b",
   "metadata": {},
   "source": [
    "<b>Q-17 Given an array nums of size n, return the majority element.\n",
    "The majority element is the element that appears more than ⌊n / 2⌋ times. \n",
    "You may assume that the majority element always exists in the array.\n",
    "\n",
    "Example 1:<br>\n",
    "Input: nums = [3,2,3]<br>\n",
    "Output: 3\n",
    "\n",
    "Example 2:<br>\n",
    "Input: nums = [2,2,1,1,1,2,2]<br>\n",
    "Output: 2</b>"
   ]
  },
  {
   "cell_type": "code",
   "execution_count": 17,
   "id": "9b779e91",
   "metadata": {},
   "outputs": [
    {
     "name": "stdout",
     "output_type": "stream",
     "text": [
      "Input:  [2, 2, 1, 1, 1, 2, 2, 2, 1, 5, 5, 5, 5, 5, 5]\n",
      "Output:  5\n"
     ]
    }
   ],
   "source": [
    "class Solution:\n",
    "    def __init__(self,matrix):\n",
    "        self.matrix = matrix\n",
    "        self.n=len(self.matrix)\n",
    "        print(\"Input: \",self.matrix)\n",
    "        self.majority()\n",
    "\n",
    "    def majority(self):\n",
    "        count =0 \n",
    "        candidate = None\n",
    "        for i in self.matrix:\n",
    "            if count == 0 :\n",
    "                candidate = i\n",
    "        count += 1 if i == candidate else -1\n",
    "        print(\"Output: \",candidate)\n",
    "\n",
    "nums = [2,2,1,1,1,2,2,2,1,5,5,5,5,5,5]\n",
    "obj = Solution(nums)"
   ]
  },
  {
   "cell_type": "code",
   "execution_count": 18,
   "id": "032c17a7",
   "metadata": {},
   "outputs": [
    {
     "name": "stdout",
     "output_type": "stream",
     "text": [
      "Input:  [2, 4, 3, 5, 1]\n",
      "(1, 4) --> nums[1] = 4, nums[4] = 1, 4 > 2 * 1\n",
      "(2, 4) --> nums[2] = 3, nums[4] = 1, 3 > 2 * 1\n",
      "(3, 4) --> nums[3] = 5, nums[4] = 1, 5 > 2 * 1\n",
      "Output:  3\n"
     ]
    }
   ],
   "source": [
    "'''\n",
    "Q-18 Given an integer array nums, return the number of reverse pairs in the array.\n",
    "A reverse pair is a pair (i, j) where:\n",
    "-> 0 <= i < j < nums.length and\n",
    "-> nums[i] > 2 * nums[j].\n",
    "\n",
    "Example 1:\n",
    "Input: nums = [1,3,2,3,1]\n",
    "Output: 2\n",
    "Explanation: The reverse pairs are:\n",
    "(1, 4) --> nums[1] = 3, nums[4] = 1, 3 > 2 * 1\n",
    "(3, 4) --> nums[3] = 3, nums[4] = 1, 3 > 2 * 1\n",
    "\n",
    "Example 2:\n",
    "Input: nums = [2,4,3,5,1]\n",
    "Output: 3\n",
    "Explanation: The reverse pairs are:.\n",
    "(1, 4) --> nums[1] = 4, nums[4] = 1, 4 > 2 * 1\n",
    "(2, 4) --> nums[2] = 3, nums[4] = 1, 3 > 2 * 1\n",
    "(3, 4) --> nums[3] = 5, nums[4] = 1, 5 > 2 * 1\n",
    "\n",
    "'''\n",
    "\n",
    "\n",
    "class Solution:\n",
    "    def __init__(self,matrix):\n",
    "        self.matrix=matrix\n",
    "        self.n=len(self.matrix)\n",
    "        print(\"Input: \",self.matrix)\n",
    "        print(\"Output: \",self.pair())\n",
    "\n",
    "    def pair(self):\n",
    "        count = 0\n",
    "        for i in range(self.n):\n",
    "            for j in range(i+1,self.n):\n",
    "                if 0 <= i < j < self.n and self.matrix[i] > 2 * self.matrix[j] :\n",
    "                    count += 1\n",
    "                    print(\"({}, {}) --> nums[{}] = {}, nums[{}] = {}, {} > 2 * {}\".format(i, j, i, self.matrix[i], j, self.matrix[j], self.matrix[i], self.matrix[j]))\n",
    "        return count\n",
    "    \n",
    "\n",
    "nums = [2,4,3,5,1]\n",
    "obj=Solution(nums)"
   ]
  },
  {
   "cell_type": "code",
   "execution_count": 19,
   "id": "98df6241",
   "metadata": {},
   "outputs": [
    {
     "name": "stdout",
     "output_type": "stream",
     "text": [
      "[1, 2]\n",
      "[1, 3]\n",
      "[1, 4]\n",
      "[2, 3]\n",
      "[2, 4]\n",
      "[3, 4]\n"
     ]
    }
   ],
   "source": [
    "'''\n",
    "Q-19 Given an array of size n, generate and print all possible combinations of r elements in array. \n",
    "For example, if input array is {1, 2, 3, 4} and r is 2, \n",
    "then output should be {1, 2}, {1, 3}, {1, 4}, {2, 3}, {2, 4} and {3, 4}.\n",
    "\n",
    "'''\n",
    "\n",
    "\n",
    "def generate_combinations_recursive(arr, r, index=0, combination=[]):\n",
    "    if len(combination) == r:\n",
    "        print(combination)\n",
    "        return\n",
    "\n",
    "    for i in range(index, len(arr)):\n",
    "        combination.append(arr[i])\n",
    "        generate_combinations_recursive(arr, r, i + 1, combination)\n",
    "        combination.pop()\n",
    "\n",
    "# Example usage\n",
    "nums = [1, 2, 3, 4]\n",
    "r = 2\n",
    "generate_combinations_recursive(nums, r)"
   ]
  },
  {
   "cell_type": "code",
   "execution_count": 20,
   "id": "f74b32c8",
   "metadata": {},
   "outputs": [
    {
     "name": "stdout",
     "output_type": "stream",
     "text": [
      "Input:  [[0, 0], [3, 0], [9, 2]]\n",
      "Output:  3\n"
     ]
    }
   ],
   "source": [
    "'''\n",
    "Q-20 You are given an array points containing the coordinates of points on a 2D plane, sorted by the x-values, \n",
    "where points[i] = [xi, yi] such that xi < xj for all 1 <= i < j <= points.length. You are also given an integer k.\n",
    "Return the maximum value of the equation yi + yj + |xi - xj| where |xi - xj| <= k and 1 <= i < j <= points.length.\n",
    "It is guaranteed that there exists at least one pair of points that satisfy the constraint |xi - xj| <= k.\n",
    "\n",
    "Example 1:\n",
    "Input: points = [[1,3],[2,0],[5,10],[6,-10]], k = 1\n",
    "Output: 4\n",
    "Explanation: The first two points satisfy the condition |xi - xj| <= 1 and \n",
    "if we calculate the equation we get 3 + 0 + |1 - 2| = 4. \n",
    "Third and fourth points also satisfy the condition and give a value of 10 + -10 + |5 - 6| = 1.\n",
    "No other pairs satisfy the condition, so we return the max of 4 and 1.\n",
    "\n",
    "'''\n",
    "\n",
    "class solution:\n",
    "    def __init__(self,points,k):\n",
    "        self.points=points\n",
    "        self.k=k\n",
    "        self.n=len(self.points)\n",
    "        self.equcation()\n",
    "\n",
    "    def equcation(self):\n",
    "        max_number=0\n",
    "        for i in range(self.n):\n",
    "            for j in range(i+1,self.n):\n",
    "                if abs(self.points[i][0] - self.points[j][0]) <= self.k :\n",
    "                    temp=self.points[i][1]+self.points[j][1]+abs(self.points[i][0] - self.points[j][0])\n",
    "                    max_number=max(max_number,temp)\n",
    "        print(\"Input: \",self.points)\n",
    "        print(\"Output: \",max_number)\n",
    "\n",
    "points = [[0,0],[3,0],[9,2]]\n",
    "k = 3\n",
    "obj=solution(points,k)"
   ]
  },
  {
   "cell_type": "code",
   "execution_count": 21,
   "id": "c77f6deb",
   "metadata": {},
   "outputs": [
    {
     "name": "stdout",
     "output_type": "stream",
     "text": [
      "False\n",
      "False\n"
     ]
    }
   ],
   "source": [
    "'''\n",
    "Q-21 RandomizedCollection is a data structure that contains a collection of numbers, possibly duplicates. \n",
    "It should support inserting and removing specific elements and also reporting a random element.\n",
    "\n",
    "Implement the RandomizedCollection class:\n",
    "\n",
    "RandomizedCollection() Initializes the empty RandomizedCollection object.\n",
    "-> bool insert(int val) Inserts an item val into the multiset, \n",
    "even if the item is already present. Returns true if the item is not present, false otherwise.\n",
    "-> bool remove(int val) Removes an item val from the multiset if present. \n",
    "Returns true if the item is present, false otherwise. Note that if val has multiple occurrences in the multiset, \n",
    "we only remove one of them.\n",
    "-> int getRandom() Returns a random element from the current multiset of elements. \n",
    "The probability of each element being returned is linearly related to the number of the same values the multiset contains.\n",
    "You must implement the functions of the class such that each function works on average O(1) time complexity.\n",
    "\n",
    "Note: The test cases are generated such that getRandom will only be called if there is at least one item in the RandomizedCollection.\n",
    "\n",
    "'''\n",
    "\n",
    "class solution:\n",
    "    def __init__(self):\n",
    "        self.l=[]\n",
    "        self.n=len(self.l)\n",
    "\n",
    "    def insert(self,val):\n",
    "        temp=0\n",
    "        for i in range(self.n):\n",
    "            if val==self.l[i] :\n",
    "                temp += 1\n",
    "        if temp>0 :\n",
    "            self.l.append(val)\n",
    "            return True\n",
    "        else:\n",
    "            self.l.append(val)\n",
    "            return False\n",
    "        \n",
    "    \n",
    "obj=solution()\n",
    "print(obj.insert(3))\n",
    "print(obj.insert(3))"
   ]
  },
  {
   "cell_type": "code",
   "execution_count": 22,
   "id": "de781bba",
   "metadata": {},
   "outputs": [
    {
     "name": "stdout",
     "output_type": "stream",
     "text": [
      "Input:  [2, 1, 5, 6, 2, 3]\n",
      "Output:  10\n"
     ]
    }
   ],
   "source": [
    "'''\n",
    "Q-22 Given an array of integers heights representing the histogram's bar height \n",
    "where the width of each bar is 1, return the area of the largest rectangle in the histogram.\n",
    "\n",
    "Example 1:\n",
    "Input: heights = [2,1,5,6,2,3]\n",
    "Output: 10\n",
    "Explanation: The above is a histogram where width of each bar is 1.\n",
    "The largest rectangle is shown in the red area, which has an area = 10 units.\n",
    "\n",
    "'''\n",
    "class Solution:\n",
    "    def __init__(self,matrix):\n",
    "        self.matrix=matrix\n",
    "        self.n=len(self.matrix)\n",
    "        print(\"Input: \",self.matrix)\n",
    "        print(\"Output: \",self.area())\n",
    "\n",
    "    def area(self):\n",
    "        max_val=0\n",
    "        for i in range(self.n):\n",
    "            for j in range(i+1,self.n):\n",
    "                height=min(self.matrix[i],self.matrix[j])\n",
    "                area=height*2\n",
    "                max_val=max(max_val,area)\n",
    "        return max_val\n",
    "\n",
    "obj=Solution([2,1,5,6,2,3]) "
   ]
  }
 ],
 "metadata": {
  "kernelspec": {
   "display_name": "Python 3 (ipykernel)",
   "language": "python",
   "name": "python3"
  },
  "language_info": {
   "codemirror_mode": {
    "name": "ipython",
    "version": 3
   },
   "file_extension": ".py",
   "mimetype": "text/x-python",
   "name": "python",
   "nbconvert_exporter": "python",
   "pygments_lexer": "ipython3",
   "version": "3.10.7"
  }
 },
 "nbformat": 4,
 "nbformat_minor": 5
}
