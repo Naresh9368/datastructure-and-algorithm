{
 "cells": [
  {
   "cell_type": "markdown",
   "id": "137de8b2",
   "metadata": {},
   "source": [
    "<b>1. Right Triangle Star Pattern<b>"
   ]
  },
  {
   "cell_type": "code",
   "execution_count": 1,
   "id": "735f021b",
   "metadata": {},
   "outputs": [
    {
     "name": "stdout",
     "output_type": "stream",
     "text": [
      "* \r\n",
      "* * \r\n",
      "* * * \r\n",
      "* * * * \r\n",
      "* * * * * \r\n"
     ]
    }
   ],
   "source": [
    "n=5\n",
    "for i in range(5):\n",
    "    for j in range(i+1):\n",
    "        print(\"* \",end=\"\")\n",
    "    print(\"\\r\")"
   ]
  },
  {
   "cell_type": "markdown",
   "id": "b0b3a8f3",
   "metadata": {},
   "source": [
    "<b>2. Left Triangle Star Pattern<b>"
   ]
  },
  {
   "cell_type": "code",
   "execution_count": 2,
   "id": "aa414274",
   "metadata": {},
   "outputs": [
    {
     "name": "stdout",
     "output_type": "stream",
     "text": [
      "          * \r\n",
      "        * * \r\n",
      "      * * * \r\n",
      "    * * * * \r\n",
      "  * * * * * \r\n"
     ]
    }
   ],
   "source": [
    "for i in range(5):\n",
    "    \n",
    "    for j in range(2*(5-i)):\n",
    "        print(\" \",end=\"\")\n",
    "    for k in range(i+1):\n",
    "        print(\"* \",end=\"\")\n",
    "    print(\"\\r\")"
   ]
  },
  {
   "cell_type": "markdown",
   "id": "5f8b65de",
   "metadata": {},
   "source": [
    "<b>3. Downward Triangle Star Pattern<b>"
   ]
  },
  {
   "cell_type": "code",
   "execution_count": 3,
   "id": "635d3cb8",
   "metadata": {},
   "outputs": [
    {
     "name": "stdout",
     "output_type": "stream",
     "text": [
      "* * * * * \r\n",
      "* * * * \r\n",
      "* * * \r\n",
      "* * \r\n",
      "* \r\n"
     ]
    }
   ],
   "source": [
    "n=5\n",
    "for i in range(n):\n",
    "    for j in range((n-i)):\n",
    "        print(\"*\",end=\" \")\n",
    "    print(\"\\r\")"
   ]
  },
  {
   "cell_type": "markdown",
   "id": "4e68ed9f",
   "metadata": {},
   "source": [
    "<b>4. Right Down Mirror Star Pattern</b>"
   ]
  },
  {
   "cell_type": "code",
   "execution_count": 4,
   "id": "4ff9d506",
   "metadata": {},
   "outputs": [
    {
     "name": "stdout",
     "output_type": "stream",
     "text": [
      "* * * * * \r\n",
      "  * * * * \r\n",
      "    * * * \r\n",
      "      * * \r\n",
      "        * \r\n"
     ]
    }
   ],
   "source": [
    "for i in range(5,0,-1):\n",
    "    for j in range(5-i):\n",
    "        print(\" \",end=\" \")\n",
    "    for k in range(i):\n",
    "        print(\"*\",end=\" \")\n",
    "    print(\"\\r\")"
   ]
  },
  {
   "cell_type": "markdown",
   "id": "4b55db56",
   "metadata": {},
   "source": [
    "<b>5. Pyramid Star Pattern</b>"
   ]
  },
  {
   "cell_type": "code",
   "execution_count": 5,
   "id": "6dad9756",
   "metadata": {},
   "outputs": [
    {
     "name": "stdout",
     "output_type": "stream",
     "text": [
      "     * \r\n",
      "    * * \r\n",
      "   * * * \r\n",
      "  * * * * \r\n",
      " * * * * * \r\n"
     ]
    }
   ],
   "source": [
    "for i in range(5):\n",
    "    for j in range((5-i)):\n",
    "        print(\" \",end=\"\")\n",
    "    for j in range(i+1):\n",
    "        print(\"* \",end=\"\")\n",
    "    print(\"\\r\")"
   ]
  },
  {
   "cell_type": "markdown",
   "id": "b57e443a",
   "metadata": {},
   "source": [
    "<b>6. Reverse Pyramid Star Pattern</b>"
   ]
  },
  {
   "cell_type": "code",
   "execution_count": 6,
   "id": "e756e76d",
   "metadata": {},
   "outputs": [
    {
     "name": "stdout",
     "output_type": "stream",
     "text": [
      "* * * * * \r\n",
      " * * * * \r\n",
      "  * * * \r\n",
      "   * * \r\n",
      "    * \r\n"
     ]
    }
   ],
   "source": [
    "for i in range(5,0,-1):\n",
    "    for j in range(5,i,-1):\n",
    "        print(\" \",end=\"\")\n",
    "    for k in range(1,i+1):\n",
    "        print(\"* \",end=\"\")\n",
    "    print(\"\\r\")"
   ]
  },
  {
   "cell_type": "markdown",
   "id": "5289ec14",
   "metadata": {},
   "source": [
    "<b>7. Right Triangle Star Pattern (Using While Loop)</b>"
   ]
  },
  {
   "cell_type": "code",
   "execution_count": 7,
   "id": "c4c1bd2d",
   "metadata": {},
   "outputs": [
    {
     "name": "stdout",
     "output_type": "stream",
     "text": [
      "\n",
      "* \n",
      "* * \n",
      "* * * \n",
      "* * * * \n",
      "* * * * * \n"
     ]
    }
   ],
   "source": [
    "n=5;i=0\n",
    "while(i<=n):\n",
    "    print(\"* \"*i)\n",
    "    i += 1"
   ]
  },
  {
   "cell_type": "markdown",
   "id": "73fd53ec",
   "metadata": {},
   "source": [
    "<b>8. Pyramid Star Pattern (Using While Loop)</b>"
   ]
  },
  {
   "cell_type": "code",
   "execution_count": 8,
   "id": "0205d018",
   "metadata": {},
   "outputs": [
    {
     "name": "stdout",
     "output_type": "stream",
     "text": [
      "     \n",
      "    * \n",
      "   * * \n",
      "  * * * \n",
      " * * * * \n",
      "* * * * * \n"
     ]
    }
   ],
   "source": [
    "n=5;i=0\n",
    "while(i<=n):\n",
    "    print(\" \"*(n-i)+\"* \"*i)\n",
    "    i += 1"
   ]
  },
  {
   "cell_type": "markdown",
   "id": "dc06f7dc",
   "metadata": {},
   "source": [
    "<b>9. Reverse Pyramid Star Pattern (Using While Loop)</b>"
   ]
  },
  {
   "cell_type": "code",
   "execution_count": 9,
   "id": "db0c7d7f",
   "metadata": {},
   "outputs": [
    {
     "name": "stdout",
     "output_type": "stream",
     "text": [
      "* * * * * \n",
      " * * * * \n",
      "  * * * \n",
      "   * * \n",
      "    * \n",
      "     \n"
     ]
    }
   ],
   "source": [
    "n=5;i=0\n",
    "while(i<=n):\n",
    "    print(\" \"*i+\"* \"*(n-i))\n",
    "    i += 1"
   ]
  },
  {
   "cell_type": "markdown",
   "id": "245b2c60",
   "metadata": {},
   "source": [
    "<b>10. Right Pascal's Triangle</b>"
   ]
  },
  {
   "cell_type": "code",
   "execution_count": 10,
   "id": "1657af37",
   "metadata": {},
   "outputs": [
    {
     "name": "stdout",
     "output_type": "stream",
     "text": [
      "* \r\n",
      "* * \r\n",
      "* * * \r\n",
      "* * * * \r\n",
      "* * * * * \r\n",
      "* * * * \r\n",
      "* * * \r\n",
      "* * \r\n",
      "* \r\n"
     ]
    }
   ],
   "source": [
    "n=9\n",
    "k=n//2\n",
    "for i in range(n):\n",
    "    if i>k :\n",
    "        for j in range(n-i):\n",
    "            print(\"* \",end=\"\")\n",
    "        k -= 1\n",
    "        print(\"\\r\")\n",
    "    else:\n",
    "        for j in range(i+1):\n",
    "            print(\"* \",end=\"\")\n",
    "        print(\"\\r\")"
   ]
  },
  {
   "cell_type": "code",
   "execution_count": 11,
   "id": "633d7518",
   "metadata": {},
   "outputs": [
    {
     "name": "stdout",
     "output_type": "stream",
     "text": [
      "A\n"
     ]
    }
   ],
   "source": [
    "print(chr(65))"
   ]
  },
  {
   "cell_type": "code",
   "execution_count": 12,
   "id": "63cef2c1",
   "metadata": {},
   "outputs": [
    {
     "name": "stdout",
     "output_type": "stream",
     "text": [
      "65\n"
     ]
    }
   ],
   "source": [
    "print(ord(\"A\"))"
   ]
  },
  {
   "cell_type": "code",
   "execution_count": 13,
   "id": "71d78714",
   "metadata": {},
   "outputs": [
    {
     "name": "stdout",
     "output_type": "stream",
     "text": [
      "E \r\n",
      "D D \r\n",
      "C C C \r\n",
      "B B B B \r\n",
      "A A A A A \r\n"
     ]
    }
   ],
   "source": [
    "n=69\n",
    "for i in range(5):\n",
    "    for j in range(i+1):\n",
    "        print(chr(n),end=\" \")\n",
    "    n -= 1\n",
    "    print(\"\\r\")"
   ]
  },
  {
   "cell_type": "code",
   "execution_count": 14,
   "id": "2c00b1c9",
   "metadata": {},
   "outputs": [
    {
     "name": "stdout",
     "output_type": "stream",
     "text": [
      "7\n",
      "767\n",
      "76567\n",
      "7654567\n",
      "765434567\n",
      "76543234567\n",
      "7654321234567\n",
      "76543234567\n",
      "765434567\n",
      "7654567\n",
      "76567\n",
      "767\n",
      "7\n"
     ]
    }
   ],
   "source": [
    "def print_pattern(n):\n",
    "    for i in range(n, 0, -1):\n",
    "        for j in range(n, i - 1, -1):\n",
    "            print(j, end='')\n",
    "        for j in range(i + 1, n + 1):\n",
    "            print(j, end='')\n",
    "        print()\n",
    "\n",
    "    for i in range(2, n + 1):\n",
    "        for j in range(n, i - 1, -1):\n",
    "            print(j, end='')\n",
    "        for j in range(i + 1, n + 1):\n",
    "            print(j, end='')\n",
    "        print()\n",
    "\n",
    "# Set the value of n to control the size of the pattern\n",
    "n = 7\n",
    "print_pattern(n)\n",
    "\n"
   ]
  },
  {
   "cell_type": "markdown",
   "id": "4742c897",
   "metadata": {},
   "source": [
    "<b>13. Sum of Number (Using String Method)</b>"
   ]
  },
  {
   "cell_type": "code",
   "execution_count": 15,
   "id": "7c5add9f",
   "metadata": {},
   "outputs": [
    {
     "name": "stdout",
     "output_type": "stream",
     "text": [
      "Enter Number: 123\n",
      "The sum of digit: 6\n"
     ]
    }
   ],
   "source": [
    "n = input(\"Enter Number: \")\n",
    "sum = 0\n",
    "for i in n:\n",
    "    sum = sum + int(i)\n",
    "print(\"The sum of digit: \"+str(sum))"
   ]
  },
  {
   "cell_type": "markdown",
   "id": "303ef4c4",
   "metadata": {},
   "source": [
    "<b>14. Sum of Number (Using General Method)</b>"
   ]
  },
  {
   "cell_type": "code",
   "execution_count": 16,
   "id": "69d8903c",
   "metadata": {},
   "outputs": [
    {
     "name": "stdout",
     "output_type": "stream",
     "text": [
      "Enter number: 123\n",
      "6\n"
     ]
    }
   ],
   "source": [
    "n = int(input(\"Enter number: \"))\n",
    "sum =0\n",
    "while n != 0:\n",
    "    rem = n%10\n",
    "    sum = sum + rem\n",
    "    n = n//10\n",
    "    \n",
    "print(sum)"
   ]
  },
  {
   "cell_type": "markdown",
   "id": "8630e6f3",
   "metadata": {},
   "source": [
    "<b>15. Palindrome (For Number)</b>"
   ]
  },
  {
   "cell_type": "code",
   "execution_count": 17,
   "id": "9ba3f906",
   "metadata": {},
   "outputs": [
    {
     "name": "stdout",
     "output_type": "stream",
     "text": [
      "Enter number: 121\n",
      "Palindrome\n"
     ]
    }
   ],
   "source": [
    "n = int(input(\"Enter number: \"))\n",
    "temp = n\n",
    "rev = \"\"\n",
    "while n != 0:\n",
    "    rem = n%10\n",
    "    rev = rev + str(rem)\n",
    "    n = n//10\n",
    "    \n",
    "if temp == int(rev) :\n",
    "    print(\"Palindrome\")\n",
    "else:\n",
    "    print(\"not\")"
   ]
  },
  {
   "cell_type": "markdown",
   "id": "c33c26f3",
   "metadata": {},
   "source": [
    "<b>16. Palindrome (For string)</b>"
   ]
  },
  {
   "cell_type": "code",
   "execution_count": 18,
   "id": "c43245bf",
   "metadata": {},
   "outputs": [
    {
     "name": "stdout",
     "output_type": "stream",
     "text": [
      "Enter string: raar\n",
      "True\n"
     ]
    }
   ],
   "source": [
    "name=input(\"Enter string: \")\n",
    "i=1\n",
    "rev=\"\"\n",
    "while i<=len(name):\n",
    "    rev += name[-i]\n",
    "    i += 1\n",
    "print(rev==name)"
   ]
  },
  {
   "cell_type": "markdown",
   "id": "d6e9f9f3",
   "metadata": {},
   "source": [
    "<b>17. Unique Number</b>"
   ]
  },
  {
   "cell_type": "code",
   "execution_count": 67,
   "id": "db2ac514",
   "metadata": {},
   "outputs": [
    {
     "name": "stdout",
     "output_type": "stream",
     "text": [
      "Input:  [1, 2, 3, 4, 1, 2, 7, 9]\n",
      "Output: \n",
      "O[1]: Repited Element: 1 2 \n",
      "O[2]: Non Repited Element: 3 4 7 9 \n",
      "O[3]: Unique Element: 1 2 3 4 7 9 \n",
      "O[4]: Repited Element With His Repitation Value: 1 : 2, 2 : 2, "
     ]
    }
   ],
   "source": [
    "def logic(l):\n",
    "    d ={}\n",
    "    for i in l:\n",
    "        if i not in d.keys():\n",
    "            d[i]=1\n",
    "        else:\n",
    "            d[i]=d.get(i)+1\n",
    "    return d\n",
    "\n",
    "def Repited_Element(d):\n",
    "    print(\"O[1]: Repited Element: \",end=\"\")\n",
    "    for i in d.keys():\n",
    "        if d[i]>1 :\n",
    "            print(i,end=\" \")\n",
    "\n",
    "def Non_Repited_Element(d):\n",
    "    print(\"\\nO[2]: Non Repited Element: \",end=\"\")\n",
    "    for i in d.keys():\n",
    "        if d[i]<=1 :\n",
    "            print(i,end=\" \")\n",
    "\n",
    "def Unique_Element(d):\n",
    "    print(\"\\nO[3]: Unique Element: \",end=\"\")\n",
    "    for i in d.keys():\n",
    "        print(i,end=\" \")\n",
    "\n",
    "def Repitation_Value(d):\n",
    "    print(\"\\nO[4]: Repited Element With His Repitation Value: \",end=\"\")\n",
    "    for i in d.keys():\n",
    "        if d[i]>1 :\n",
    "            print(i,\":\",d[i],end=\", \")\n",
    "\n",
    "            \n",
    "l = [1,2,3,4,1,2,7,9]            \n",
    "print(\"Input: \",l)\n",
    "d=logic(l)\n",
    "print(\"Output: \")\n",
    "Repited_Element(d)\n",
    "Non_Repited_Element(d)\n",
    "Unique_Element(d)\n",
    "Repitation_Value(d)"
   ]
  },
  {
   "cell_type": "markdown",
   "id": "6f24354b",
   "metadata": {},
   "source": [
    "<b>18. Fibno...</b>"
   ]
  },
  {
   "cell_type": "code",
   "execution_count": 20,
   "id": "a57b9509",
   "metadata": {},
   "outputs": [
    {
     "name": "stdout",
     "output_type": "stream",
     "text": [
      "Enter the ending term of fibno...: 8\n",
      "1 2 3 5 8 13 21 34 "
     ]
    }
   ],
   "source": [
    "n=int(input(\"Enter the ending term of fibno...: \"))\n",
    "prev=0\n",
    "curr=1\n",
    "for i in range(n):\n",
    "    next=prev+curr\n",
    "    print(next,end=\" \")\n",
    "    prev=curr\n",
    "    curr=next"
   ]
  },
  {
   "cell_type": "markdown",
   "id": "7ef616eb",
   "metadata": {},
   "source": [
    "<b>19. Prime Number</b>"
   ]
  },
  {
   "cell_type": "code",
   "execution_count": 21,
   "id": "9d4d5293",
   "metadata": {},
   "outputs": [
    {
     "name": "stdout",
     "output_type": "stream",
     "text": [
      "2 3 5 7 11 13 17 19 23 29 31 37 41 43 47 53 59 61 67 71 73 79 83 89 97 "
     ]
    }
   ],
   "source": [
    "for i in range(2,100):\n",
    "    flag=0\n",
    "    for j in range(2,int(i/2)+1):\n",
    "        if i%j==0 :\n",
    "            flag=1\n",
    "            break\n",
    "    if flag == 0 :\n",
    "        print(i,end=\" \")"
   ]
  },
  {
   "cell_type": "markdown",
   "id": "60b97277",
   "metadata": {},
   "source": [
    "<b>20. Factorial</b>"
   ]
  },
  {
   "cell_type": "code",
   "execution_count": 22,
   "id": "101333ec",
   "metadata": {},
   "outputs": [
    {
     "name": "stdout",
     "output_type": "stream",
     "text": [
      "Enter Number: 5\n",
      "Factorial of 5 is: 120\n"
     ]
    }
   ],
   "source": [
    "def fact(n):\n",
    "    if n==0:\n",
    "        return 1\n",
    "    else:\n",
    "        return n*fact(n-1)\n",
    "n=int(input(\"Enter Number: \"))\n",
    "print(f\"Factorial of {n} is:\",fact(n))"
   ]
  },
  {
   "cell_type": "markdown",
   "id": "e0b59856",
   "metadata": {},
   "source": [
    "<b>21. Linear search</b>"
   ]
  },
  {
   "cell_type": "code",
   "execution_count": 23,
   "id": "19571bf5",
   "metadata": {},
   "outputs": [
    {
     "name": "stdout",
     "output_type": "stream",
     "text": [
      "Data:  [23, 45, 1, 78, 34, 22, 7, 99, 97]\n",
      "Enter Your element: 7\n",
      "Searched element present at Position no. : 7\n"
     ]
    }
   ],
   "source": [
    "def linear_search(matrix):\n",
    "    print(\"Data: \",matrix)\n",
    "    search_element=int(input(\"Enter Your element: \"))\n",
    "    for i in range(len(matrix)):\n",
    "        if matrix[i]==search_element:\n",
    "            return i\n",
    "            \n",
    "matrix=[23,45,1,78,34,22,7,99,97]\n",
    "a=linear_search(matrix)\n",
    "if a!=None:\n",
    "    print(\"Searched element present at Position no. :\",a+1)\n",
    "else:\n",
    "    print(\"Element is not present in array...!\")"
   ]
  },
  {
   "cell_type": "markdown",
   "id": "fe3457b2",
   "metadata": {},
   "source": [
    "<b>22. Binary search</b>"
   ]
  },
  {
   "cell_type": "code",
   "execution_count": 27,
   "id": "704f0558",
   "metadata": {},
   "outputs": [
    {
     "name": "stdout",
     "output_type": "stream",
     "text": [
      "Enter number: 8\n",
      "7\n"
     ]
    }
   ],
   "source": [
    "def binary_search(matrix):\n",
    "    low=0\n",
    "    high=len(matrix)-1\n",
    "    search_element=int(input(\"Enter number: \"))\n",
    "    while low<=high :\n",
    "        mid=(low+high)//2\n",
    "        if search_element == matrix[mid] :\n",
    "            return mid\n",
    "        elif search_element > matrix[mid] :\n",
    "            low=mid+1\n",
    "        else:\n",
    "            high=mid-1\n",
    "\n",
    "matrix=[1,2,3,4,5,6,7,8,9,10,11,12]\n",
    "print(binary_search(matrix))"
   ]
  },
  {
   "cell_type": "markdown",
   "id": "1caa11c2",
   "metadata": {},
   "source": [
    "<b>23. Bubble Sort</b>"
   ]
  },
  {
   "cell_type": "code",
   "execution_count": 30,
   "id": "1d07e9a5",
   "metadata": {},
   "outputs": [
    {
     "name": "stdout",
     "output_type": "stream",
     "text": [
      "Input:  [0, 23, 45, 1, 78, 34, 22, 7, 99, 97]\n",
      "Output:  [0, 1, 7, 22, 23, 34, 45, 78, 97, 99]\n"
     ]
    }
   ],
   "source": [
    "def bubble_sort(matrix):\n",
    "    for i in range(len(matrix)):\n",
    "        for j in range(i+1, len(matrix)):\n",
    "            if matrix[i]>=matrix[j] :\n",
    "                temp=matrix[i]\n",
    "                matrix[i]=matrix[j]\n",
    "                matrix[j]=temp\n",
    "    return matrix\n",
    "\n",
    "matrix=[0,23,45,1,78,34,22,7,99,97]\n",
    "print(\"Input: \",matrix)\n",
    "print(\"Output: \",bubble_sort(matrix))"
   ]
  },
  {
   "cell_type": "markdown",
   "id": "96960ca6",
   "metadata": {},
   "source": [
    "<b>24. Selection Sort</b>"
   ]
  },
  {
   "cell_type": "code",
   "execution_count": 32,
   "id": "00c83916",
   "metadata": {},
   "outputs": [
    {
     "name": "stdout",
     "output_type": "stream",
     "text": [
      "Input:  [0, 23, 45, 1, 78, 34, 22, 7, 99, 97]\n",
      "Output:  [0, 1, 7, 22, 23, 34, 45, 78, 97, 99]\n"
     ]
    }
   ],
   "source": [
    "def selection_sort(matrix):\n",
    "    for i in range(len(matrix)):\n",
    "        min=i\n",
    "        for j in range(i+1,len(matrix)):\n",
    "            if matrix[min]>=matrix[j] :\n",
    "                min=j\n",
    "        temp=matrix[i]\n",
    "        matrix[i]=matrix[min]\n",
    "        matrix[min]=temp\n",
    "    return matrix\n",
    "\n",
    "matrix=[0,23,45,1,78,34,22,7,99,97]\n",
    "print(\"Input: \",matrix)\n",
    "print(\"Output: \",selection_sort(matrix))"
   ]
  },
  {
   "cell_type": "markdown",
   "id": "2938d4f6",
   "metadata": {},
   "source": [
    "<b>25. Insertion Sort</b>"
   ]
  },
  {
   "cell_type": "code",
   "execution_count": 35,
   "id": "c8d995fe",
   "metadata": {},
   "outputs": [
    {
     "name": "stdout",
     "output_type": "stream",
     "text": [
      "Input:  [0, 23, 45, 1, 78, 34, 22, 7, 99, 97]\n",
      "Output:  [0, 45, 1, 78, 34, 22, 7, 97, 23, 99]\n"
     ]
    }
   ],
   "source": [
    "def insertion_sort(matrix):\n",
    "    for i in range(1,len(matrix)):\n",
    "        j=i\n",
    "        while j>=0:\n",
    "            if matrix[j-1]>matrix[i] :\n",
    "                temp=matrix[j-1]\n",
    "                matrix[j-1]=matrix[i]\n",
    "                matrix[i]=temp\n",
    "            j -= 1\n",
    "    return matrix\n",
    "matrix=[0,23,45,1,78,34,22,7,99,97]\n",
    "print(\"Input: \",matrix)\n",
    "print(\"Output: \",insertion_sort(matrix))"
   ]
  },
  {
   "cell_type": "code",
   "execution_count": null,
   "id": "ef692017",
   "metadata": {},
   "outputs": [],
   "source": []
  }
 ],
 "metadata": {
  "kernelspec": {
   "display_name": "Python 3 (ipykernel)",
   "language": "python",
   "name": "python3"
  },
  "language_info": {
   "codemirror_mode": {
    "name": "ipython",
    "version": 3
   },
   "file_extension": ".py",
   "mimetype": "text/x-python",
   "name": "python",
   "nbconvert_exporter": "python",
   "pygments_lexer": "ipython3",
   "version": "3.10.7"
  }
 },
 "nbformat": 4,
 "nbformat_minor": 5
}
